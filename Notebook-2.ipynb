{
    "metadata": {
        "kernelspec": {
            "name": "SQL",
            "display_name": "SQL",
            "language": "sql"
        },
        "language_info": {
            "name": "sql",
            "version": ""
        }
    },
    "nbformat_minor": 2,
    "nbformat": 4,
    "cells": [
        {
            "cell_type": "markdown",
            "source": [
                "# Database Schema\r\n",
                "\r\n",
                "The following database schema defines the structure for storing information related to manufacturers, models, part catalogues, parts, product manufacturers, and products.\r\n",
                "\r\n",
                "## Tables\r\n",
                "\r\n",
                "### Table: Manufacturer\r\n",
                "- **Columns**:\r\n",
                "  - `name` (VARCHAR(255)): Primary key representing the manufacturer's name.\r\n",
                "  - `page_link` (VARCHAR(255)): Link to the manufacturer's page.\r\n",
                "  - `logo_link` (VARCHAR(255)): Link to the manufacturer's logo.\r\n",
                "\r\n",
                "### Table: Model\r\n",
                "- **Columns**:\r\n",
                "  - `name` (VARCHAR(255)): Primary key representing the model's name.\r\n",
                "  - `img_link` (VARCHAR(255)): Link to the model's image.\r\n",
                "  - `page_link` (VARCHAR(255)): Link to the model's page.\r\n",
                "  - `year_start` (INT): Starting year of the model.\r\n",
                "  - `year_end` (INT): Ending year of the model.\r\n",
                "  - `manufacturer_name` (VARCHAR(255)): Foreign key referencing the manufacturer.\r\n",
                "\r\n",
                "### Table: Part Catalogue\r\n",
                "- **Columns**:\r\n",
                "  - `name` (VARCHAR(255)): Primary key representing the part catalogue's name.\r\n",
                "\r\n",
                "### Table: Part\r\n",
                "- **Columns**:\r\n",
                "  - `id` (SERIAL): Primary key representing the part's ID.\r\n",
                "  - `name` (VARCHAR(255)): Not null field representing the part's name.\r\n",
                "  - `model_name` (VARCHAR(255)): Foreign key referencing the model.\r\n",
                "  - `page_link` (VARCHAR(255)): Link to the part's page.\r\n",
                "  - `catalogue_name` (VARCHAR(255)): Foreign key referencing the part catalogue.\r\n",
                "\r\n",
                "### Table: Product Manufacturer\r\n",
                "- **Columns**:\r\n",
                "  - `name` (VARCHAR(100)): Primary key representing the product manufacturer's name.\r\n",
                "\r\n",
                "### Table: Product\r\n",
                "- **Columns**:\r\n",
                "  - `id` (SERIAL): Primary key representing the product's ID.\r\n",
                "  - `code` (VARCHAR(50)): Code representing the product.\r\n",
                "  - `price` (DECIMAL(10, 2)): Price of the product.\r\n",
                "  - `part_id` (SERIAL): Foreign key referencing the part.\r\n",
                "  - `manufacturer_name` (VARCHAR(255)): Foreign key referencing the product manufacturer.\r\n",
                "  - `description` (TEXT): Description of the product.\r\n",
                "  - `city` (VARCHAR(100)): City associated with the product.\r\n",
                ""
            ],
            "metadata": {
                "azdata_cell_guid": "ea41ac68-768b-4989-94c2-03a9adfe0e9a"
            },
            "attachments": {}
        },
        {
            "cell_type": "code",
            "source": [
                "-- Таблица \"manufacturer\"\r\n",
                "CREATE TABLE manufacturer (\r\n",
                "    name VARCHAR(255) PRIMARY KEY,\r\n",
                "    page_link VARCHAR(255),\r\n",
                "    logo_link VARCHAR(255)\r\n",
                ");\r\n",
                "\r\n",
                "-- Таблица \"model\"\r\n",
                "CREATE TABLE model (\r\n",
                "    name VARCHAR(255) PRIMARY KEY,\r\n",
                "    img_link VARCHAR(255),\r\n",
                "    page_link VARCHAR(255),\r\n",
                "    year_start INT,\r\n",
                "    year_end INT,\r\n",
                "    manufacturer_name VARCHAR(255),\r\n",
                "    FOREIGN KEY (manufacturer_name) REFERENCES manufacturer(name)\r\n",
                ");\r\n",
                "\r\n",
                "-- Таблица \"part_catalogue\"\r\n",
                "CREATE TABLE part_catalogue (\r\n",
                "    name VARCHAR(255) PRIMARY KEY\r\n",
                ");\r\n",
                "\r\n",
                "-- Таблица \"part\"\r\n",
                "CREATE TABLE part (\r\n",
                "    id SERIAL PRIMARY KEY,\r\n",
                "    name VARCHAR(255) NOT NULL,\r\n",
                "    model_name VARCHAR(255),\r\n",
                "    page_link VARCHAR(255),\r\n",
                "    catalogue_name VARCHAR(255),\r\n",
                "    FOREIGN KEY (model_name) REFERENCES model(name),\r\n",
                "    FOREIGN KEY (catalogue_name) REFERENCES part_catalogue(name)\r\n",
                ");\r\n",
                "\r\n",
                "-- Таблица \"part_manufacturer\"\r\n",
                "CREATE TABLE product_manufacturer (\r\n",
                "    name VARCHAR(100) PRIMARY KEY\r\n",
                ");\r\n",
                "\r\n",
                "-- Таблица \"product\"\r\n",
                "CREATE TABLE product (\r\n",
                "    id SERIAL PRIMARY KEY,\r\n",
                "    code VARCHAR(50),\r\n",
                "    price DECIMAL(10, 2),\r\n",
                "    part_id SERIAL,\r\n",
                "    manufacturer_name VARCHAR(255),\r\n",
                "    description TEXT,\r\n",
                "    city VARCHAR(100),\r\n",
                "    FOREIGN KEY (manufacturer_name) REFERENCES product_manufacturer(name),\r\n",
                "    FOREIGN KEY (part_id) REFERENCES part(id)\r\n",
                ");\r\n",
                ""
            ],
            "metadata": {
                "azdata_cell_guid": "c9f5c1df-6ab7-4ecd-9caa-6fe5b24842d6",
                "language": "sql"
            },
            "outputs": [
                {
                    "output_type": "error",
                    "ename": "",
                    "evalue": "relation \"manufacturer\" already exists",
                    "traceback": []
                },
                {
                    "output_type": "display_data",
                    "data": {
                        "text/html": "Total execution time: 00:00:00.003"
                    },
                    "metadata": {}
                }
            ],
            "execution_count": 1
        }
    ]
}